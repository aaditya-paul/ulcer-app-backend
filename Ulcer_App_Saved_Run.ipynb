{
 "cells": [
  {
   "cell_type": "code",
   "execution_count": null,
   "id": "c1ad3dc2-063e-4e8a-b99b-703929f4cb98",
   "metadata": {},
   "outputs": [],
   "source": []
  },
  {
   "cell_type": "code",
   "execution_count": null,
   "id": "c9ca20b1-6322-4817-b418-6f9e515b8bdb",
   "metadata": {},
   "outputs": [],
   "source": [
    "import torch\n",
    "import torchvision.models as models\n",
    "import torchvision.transforms as transforms\n",
    "import cv2\n",
    "import numpy as np\n",
    "\n",
    "# Load the saved MobileNetV3-Small model and labels\n",
    "checkpoint = torch.load(\"ulcer_classification_mobilenetv3.pth\")\n",
    "print(checkpoint.keys())  # Debug: Check saved keys\n",
    "\n",
    "# Initialize MobileNetV3-Small\n",
    "model = models.mobilenet_v3_small(weights=models.MobileNet_V3_Small_Weights.IMAGENET1K_V1)\n",
    "num_ftrs = model.classifier[3].in_features  # Match the classifier layer from training\n",
    "model.classifier[3] = torch.nn.Linear(num_ftrs, len(checkpoint['class_to_index']))\n",
    "\n",
    "# Load trained weights\n",
    "model.load_state_dict(checkpoint['model_state_dict'])\n",
    "model.eval()\n",
    "\n",
    "# Load class mappings\n",
    "class_to_index = checkpoint['class_to_index']\n",
    "index_to_class = {v: k for k, v in class_to_index.items()}\n",
    "print(\"Loaded class mapping:\", class_to_index)  # Debug: Print class-to-index mapping\n",
    "\n",
    "# Define preprocessing (same as training)\n",
    "transform = transforms.Compose([\n",
    "    transforms.ToPILImage(),\n",
    "    transforms.Resize((224, 224)),\n",
    "    transforms.ToTensor(),\n",
    "    transforms.Normalize(mean=[0.485, 0.456, 0.406], std=[0.229, 0.224, 0.225]),\n",
    "])\n",
    "\n",
    "# Function to classify a new image\n",
    "def classify_image(image_path):\n",
    "    image = cv2.imread(image_path)\n",
    "    image = cv2.cvtColor(image, cv2.COLOR_BGR2RGB)  # Convert to RGB\n",
    "    image = transform(image).unsqueeze(0)  # Add batch dimension\n",
    "\n",
    "    with torch.no_grad():\n",
    "        output = model(image)\n",
    "        probs = torch.nn.functional.softmax(output, dim=1)  # Get confidence scores\n",
    "        _, predicted = torch.max(output, 1)\n",
    "\n",
    "    # Convert confidence scores to % format\n",
    "    confidence_percentages = probs.numpy()[0] * 100  \n",
    "    formatted_confidences = {index_to_class[i]: f\"{confidence_percentages[i]:.2f}%\" for i in range(len(confidence_percentages))}\n",
    "\n",
    "    print(f\"Confidence Scores (in %): {formatted_confidences}\")  # Debug: Print model confidence scores\n",
    "    return index_to_class[predicted.item()]\n",
    "\n",
    "# Example usage\n",
    "image_path = \"normal.jpg\"\n",
    "predicted_label = classify_image(image_path)\n",
    "print(f\"Predicted Grade: {predicted_label}\")"
   ]
  },
  {
   "cell_type": "code",
   "execution_count": null,
   "id": "3b600d3b-b2c3-432d-96a1-e94b6d90d294",
   "metadata": {},
   "outputs": [],
   "source": []
  },
  {
   "cell_type": "code",
   "execution_count": null,
   "id": "b2f5752d-2ab7-40b0-b0d8-089c0170c04f",
   "metadata": {},
   "outputs": [],
   "source": []
  }
 ],
 "metadata": {
  "kernelspec": {
   "display_name": "venv",
   "language": "python",
   "name": "python3"
  },
  "language_info": {
   "codemirror_mode": {
    "name": "ipython",
    "version": 3
   },
   "file_extension": ".py",
   "mimetype": "text/x-python",
   "name": "python",
   "nbconvert_exporter": "python",
   "pygments_lexer": "ipython3",
   "version": "3.12.7"
  }
 },
 "nbformat": 4,
 "nbformat_minor": 5
}
